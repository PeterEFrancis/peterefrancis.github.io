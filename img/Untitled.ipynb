{
 "cells": [
  {
   "cell_type": "code",
   "execution_count": 6,
   "id": "631eeb10-048f-4f20-94e1-78d73aafb6a5",
   "metadata": {
    "tags": []
   },
   "outputs": [],
   "source": [
    "from PIL import Image\n",
    "import csv\n",
    "import numpy as np"
   ]
  },
  {
   "cell_type": "code",
   "execution_count": 9,
   "id": "fbabe407-39bb-4e7a-af0e-20f1107baeee",
   "metadata": {
    "tags": []
   },
   "outputs": [],
   "source": [
    "# Open the image and convert it to grayscale (if it's not already BW)\n",
    "image = Image.open('new_face_BW.png').convert('L')  # '1' mode is 1-bit pixel (BW)\n",
    "\n",
    "pixels = np.array(image) / 255.0\n",
    "width, height = image.size\n",
    "\n",
    "# Write the pixel data to a CSV file\n",
    "with open('face-data.csv', 'w', newline='') as csvfile:\n",
    "    writer = csv.writer(csvfile)\n",
    "    \n",
    "    # Write pixel rows to the CSV file\n",
    "    for i in range(height):\n",
    "        writer.writerow(pixels[i])"
   ]
  },
  {
   "cell_type": "code",
   "execution_count": null,
   "id": "410b950d-fa49-4dd9-8c96-c0debea4a6c9",
   "metadata": {},
   "outputs": [],
   "source": []
  }
 ],
 "metadata": {
  "kernelspec": {
   "display_name": "Python 3 (ipykernel)",
   "language": "python",
   "name": "python3"
  },
  "language_info": {
   "codemirror_mode": {
    "name": "ipython",
    "version": 3
   },
   "file_extension": ".py",
   "mimetype": "text/x-python",
   "name": "python",
   "nbconvert_exporter": "python",
   "pygments_lexer": "ipython3",
   "version": "3.11.11"
  }
 },
 "nbformat": 4,
 "nbformat_minor": 5
}
